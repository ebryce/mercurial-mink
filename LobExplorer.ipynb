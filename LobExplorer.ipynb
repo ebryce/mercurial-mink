{
 "cells": [
  {
   "cell_type": "code",
   "execution_count": 8,
   "metadata": {},
   "outputs": [
    {
     "name": "stdout",
     "output_type": "stream",
     "text": [
      "The autoreload extension is already loaded. To reload it, use:\n",
      "  %reload_ext autoreload\n"
     ]
    }
   ],
   "source": [
    "%load_ext autoreload\n",
    "%autoreload 2\n",
    "\n",
    "import lob\n",
    "\n",
    "import numpy as np, pandas as pd\n",
    "\n",
    "import matplotlib\n",
    "import matplotlib.pyplot as plt"
   ]
  },
  {
   "cell_type": "code",
   "execution_count": 17,
   "metadata": {},
   "outputs": [
    {
     "data": {
      "image/png": "[encoded data removed]",
      "text/plain": [
       "<Figure size 560x400 with 1 Axes>"
      ]
     },
     "metadata": {},
     "output_type": "display_data"
    }
   ],
   "source": [
    "market = lob.Market(randomize_environment=True)\n",
    "\n",
    "books = {}\n",
    "mids = []\n",
    "bids = []\n",
    "offers = []\n",
    "iters = 10\n",
    "for i in range(iters):\n",
    "    trade_print = market.lob.send(market._random_order(mid=market.lob.get_mid()))\n",
    "    book = market.lob.get_level_2_book()\n",
    "    books[i] = book\n",
    "    mids.append(market.lob.get_mid())\n",
    "    bids.append(market.lob.get_bid())\n",
    "    offers.append(market.lob.get_offer())\n",
    "    \n",
    "    market.evolve()\n",
    "books = pd.concat(books)\n",
    "books = books.stack().unstack(1).unstack(1).dropna(axis=1)\n",
    "\n",
    "mids, bids, offers = pd.Series({i: mids[i] for i in range(iters)}), pd.Series({i: bids[i] for i in range(iters)}), pd.Series({i: offers[i] for i in range(iters)})\n",
    "\n",
    "plt.style.use('classic')\n",
    "plt.rc('font', **{'family': 'Arial', 'weight': 'normal', 'size': 12})\n",
    "fig = plt.figure(figsize=(7,5))\n",
    "fig.patch.set_facecolor('white')\n",
    "ax = fig.add_subplot(1, 1, 1)\n",
    "ax.spines['left'].set_visible(True)\n",
    "ax.spines['top'].set_visible(False)\n",
    "ax.spines['right'].set_visible(False)\n",
    "ax.spines['bottom'].set_visible(True)\n",
    "ax.grid(True,axis='both',linestyle=':')\n",
    "\n",
    "ax.plot(mids, label='mid')\n",
    "ax.plot(bids, label='bid')\n",
    "ax.plot(offers, label='offer')\n",
    "\n",
    "ax.legend(frameon=False, fontsize='small')\n",
    "\n",
    "plt.show()"
   ]
  }
 ],
 "metadata": {
  "kernelspec": {
   "display_name": "Python 3",
   "language": "python",
   "name": "python3"
  },
  "language_info": {
   "codemirror_mode": {
    "name": "ipython",
    "version": 3
   },
   "file_extension": ".py",
   "mimetype": "text/x-python",
   "name": "python",
   "nbconvert_exporter": "python",
   "pygments_lexer": "ipython3",
   "version": "3.6.8"
  }
 },
 "nbformat": 4,
 "nbformat_minor": 2
}
