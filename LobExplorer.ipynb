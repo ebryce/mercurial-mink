{
 "cells": [
  {
   "cell_type": "code",
   "execution_count": 2,
   "metadata": {},
   "outputs": [
    {
     "data": {
      "text/plain": [
       "<module 'lob' from 'c:\\\\Users\\\\ebryce\\\\OneDrive\\\\Documents\\\\Projects\\\\LOB-Model\\\\microstructure\\\\lob.py'>"
      ]
     },
     "execution_count": 2,
     "metadata": {},
     "output_type": "execute_result"
    }
   ],
   "source": [
    "import lob\n",
    "\n",
    "import numpy as np, pandas as pd\n",
    "import matplotlib as mpl, matplotlib.pyplot as plt\n",
    "\n",
    "import importlib\n",
    "importlib.reload(lob)"
   ]
  },
  {
   "cell_type": "code",
   "execution_count": 64,
   "metadata": {},
   "outputs": [
    {
     "name": "stderr",
     "output_type": "stream",
     "text": [
      "INFO:root:Randomizing the order book with 15 orders around 10.00; spread 0.05-0.15\n",
      "DEBUG:root:No offer available, pricing at fair value 10.00 plus half the minimum spread 0.05\n",
      "INFO:root:Creating a random S order for 100 shares at $10.02\n",
      "DEBUG:root:No bid available, pricing at fair value 10.00 minus half the minimum spread 0.05\n",
      "INFO:root:Creating a random B order for 100 shares at $9.98\n",
      "INFO:root:Creating a random B order for 400 shares at $9.91\n",
      "INFO:root:Creating a random B order for 300 shares at $9.90\n",
      "INFO:root:Creating a random B order for 100 shares at $9.84\n",
      "INFO:root:Creating a random S order for 300 shares at $10.02\n",
      "INFO:root:Creating a random B order for 200 shares at $9.84\n",
      "INFO:root:Creating a random S order for 100 shares at $10.04\n",
      "INFO:root:Creating a random B order for 200 shares at $9.77\n",
      "INFO:root:Creating a random S order for 300 shares at $10.11\n",
      "INFO:root:Creating a random S order for 200 shares at $10.21\n",
      "INFO:root:Creating a random B order for 100 shares at $9.72\n",
      "INFO:root:Creating a random S order for 100 shares at $10.26\n",
      "INFO:root:Creating a random S order for 300 shares at $10.33\n",
      "INFO:root:Creating a random S order for 300 shares at $10.38\n",
      "DEBUG:root:Order to B is marketable; crossing the spread at 9.72\n",
      "INFO:root:Creating a random B order for 400 shares at $10.38\n",
      "DEBUG:root:Order to S is marketable; crossing the spread at 10.38\n",
      "INFO:root:Creating a random S order for 100 shares at $9.72\n",
      "DEBUG:root:Order to S is marketable; crossing the spread at 10.38\n",
      "INFO:root:Creating a random S order for 200 shares at $9.77\n",
      "DEBUG:root:Order to B is marketable; crossing the spread at 9.84\n",
      "INFO:root:Creating a random B order for 200 shares at $10.38\n",
      "DEBUG:root:Order to S is marketable; crossing the spread at 10.38\n",
      "INFO:root:Creating a random S order for 400 shares at $9.84\n",
      "DEBUG:root:Order to B is marketable; crossing the spread at 9.90\n",
      "INFO:root:Creating a random B order for 100 shares at $10.38\n",
      "DEBUG:root:Order to B is marketable; crossing the spread at 9.90\n",
      "INFO:root:Creating a random B order for 100 shares at $10.38\n",
      "DEBUG:root:Order to S is marketable; crossing the spread at 10.38\n",
      "INFO:root:Creating a random S order for 300 shares at $9.90\n",
      "DEBUG:root:Order to B is marketable; crossing the spread at 9.91\n",
      "INFO:root:Creating a random B order for 100 shares at $10.38\n",
      "DEBUG:root:Order to S is marketable; crossing the spread at 10.38\n",
      "INFO:root:Creating a random S order for 200 shares at $9.91\n",
      "DEBUG:matplotlib.axes._base:title position was updated manually, not adjusting\n",
      "DEBUG:matplotlib.axes._base:title position was updated manually, not adjusting\n",
      "DEBUG:matplotlib.axes._base:title position was updated manually, not adjusting\n"
     ]
    },
    {
     "name": "stdout",
     "output_type": "stream",
     "text": [
      "[]\n"
     ]
    },
    {
     "name": "stderr",
     "output_type": "stream",
     "text": [
      "DEBUG:matplotlib.axes._base:title position was updated manually, not adjusting\n"
     ]
    },
    {
     "data": {
      "image/png": "[encoded data removed]",
      "text/plain": [
       "<Figure size 560x400 with 1 Axes>"
      ]
     },
     "metadata": {},
     "output_type": "display_data"
    },
    {
     "name": "stdout",
     "output_type": "stream",
     "text": [
      "        bids  offers\n",
      "10.38    0.0  9300.0\n",
      "10.33    0.0   300.0\n",
      "10.26    0.0   100.0\n",
      "10.21    0.0   200.0\n",
      "10.11    0.0     0.0\n",
      "10.04    0.0     0.0\n",
      "10.02    0.0     0.0\n",
      "9.98   100.0     0.0\n",
      "9.91   400.0     0.0\n",
      "9.90     0.0     0.0\n",
      "9.84     0.0     0.0\n",
      "9.77     0.0     0.0\n",
      "9.72     0.0     0.0\n"
     ]
    }
   ],
   "source": [
    "importlib.reload(lob)\n",
    "\n",
    "market = lob.Market(randomize_environment=True)\n",
    "\n",
    "books = {}\n",
    "mids = []\n",
    "bids = []\n",
    "offers = []\n",
    "trades = []\n",
    "iters = 10\n",
    "for i in range(iters):\n",
    "    trade_print = market.lob.send(market._random_order(fair_value=market.lob.get_mid(), marketable=True))\n",
    "    book = market.lob.get_level_2_book()\n",
    "    books[i] = book\n",
    "    mids.append(market.lob.get_mid())\n",
    "    bids.append(market.lob.get_bid())\n",
    "    offers.append(market.lob.get_offer())\n",
    "    \n",
    "    trades.extend(market.evolve())\n",
    "books = pd.concat(books)\n",
    "books = books.stack().unstack(1).unstack(1).dropna(axis=1)\n",
    "\n",
    "mids, bids, offers = pd.Series({i: mids[i] for i in range(iters)}), pd.Series({i: bids[i] for i in range(iters)}), pd.Series({i: offers[i] for i in range(iters)})\n",
    "\n",
    "plt.style.use('classic')\n",
    "plt.rc('font', **{'family': 'Arial', 'weight': 'normal', 'size': 12})\n",
    "fig = plt.figure(figsize=(7,5))\n",
    "fig.patch.set_facecolor('white')\n",
    "ax = fig.add_subplot(1, 1, 1)\n",
    "ax.spines['left'].set_visible(True)\n",
    "ax.spines['top'].set_visible(False)\n",
    "ax.spines['right'].set_visible(False)\n",
    "ax.spines['bottom'].set_visible(True)\n",
    "ax.grid(True,axis='both',linestyle=':')\n",
    "\n",
    "ax.plot(mids, label='mid')\n",
    "ax.plot(bids, label='bid')\n",
    "ax.plot(offers, label='offer')\n",
    "\n",
    "ax.legend(frameon=False, fontsize='small')\n",
    "\n",
    "print(trades)\n",
    "plt.show()\n",
    "\n",
    "print(books.iloc[-1].unstack().T.sort_index(ascending=False))\n"
   ]
  },
  {
   "cell_type": "code",
   "execution_count": 45,
   "metadata": {},
   "outputs": [
    {
     "data": {
      "text/plain": [
       "True"
      ]
     },
     "execution_count": 45,
     "metadata": {},
     "output_type": "execute_result"
    }
   ],
   "source": [
    "a = np.nan\n",
    "\n",
    "np.isnan(a)"
   ]
  }
 ],
 "metadata": {
  "kernelspec": {
   "display_name": "Python 3",
   "language": "python",
   "name": "python3"
  },
  "language_info": {
   "codemirror_mode": {
    "name": "ipython",
    "version": 3
   },
   "file_extension": ".py",
   "mimetype": "text/x-python",
   "name": "python",
   "nbconvert_exporter": "python",
   "pygments_lexer": "ipython3",
   "version": "3.9.12"
  }
 },
 "nbformat": 4,
 "nbformat_minor": 2
}
